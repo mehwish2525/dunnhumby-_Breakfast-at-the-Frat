{
 "cells": [
  {
   "cell_type": "code",
   "execution_count": null,
   "metadata": {},
   "outputs": [],
   "source": [
    "import pandas as pd\n",
    "from pyprojroot import here"
   ]
  },
  {
   "cell_type": "code",
   "execution_count": null,
   "metadata": {},
   "outputs": [],
   "source": [
    "pd.set_option('display.max_columns', None)"
   ]
  },
  {
   "cell_type": "code",
   "execution_count": null,
   "metadata": {},
   "outputs": [],
   "source": [
    "data_path = here() /'data' /'dunnhumby - Breakfast at the Frat.xlsx'"
   ]
  },
  {
   "cell_type": "code",
   "execution_count": null,
   "metadata": {},
   "outputs": [],
   "source": [
    "# Get a list of all the sheet names \n",
    "xls = pd.ExcelFile(data_path)\n",
    "xls.sheet_names"
   ]
  },
  {
   "cell_type": "code",
   "execution_count": null,
   "metadata": {},
   "outputs": [],
   "source": [
    "# Read the data\n",
    "glossary = pd.read_excel(data_path,sheet_name=xls.sheet_names[0],header=3)\n",
    "\n",
    "dh_store_lookup = pd.read_excel(data_path,sheet_name=xls.sheet_names[1],header=1)\n",
    "\n",
    "dh_products_lookup = pd.read_excel(data_path,sheet_name=xls.sheet_names[2],header=1)\n",
    "\n",
    "dh_transaction_data = pd.read_excel(data_path,sheet_name=xls.sheet_names[3],header=1)\n",
    "dh_transaction_data.head(4)"
   ]
  },
  {
   "cell_type": "code",
   "execution_count": null,
   "metadata": {},
   "outputs": [],
   "source": [
    "# Merge transaction data with products \n",
    "data = pd.merge(dh_transaction_data,dh_products_lookup,\n",
    "                left_on=['UPC'],\n",
    "                right_on=['UPC'],\n",
    "                how='left')"
   ]
  },
  {
   "cell_type": "code",
   "execution_count": null,
   "metadata": {},
   "outputs": [],
   "source": [
    "# Merge transaction data & products with store lookup information \n",
    "data_merge = pd.merge(data,dh_store_lookup,\n",
    "                left_on=['STORE_NUM'],\n",
    "                right_on=['STORE_ID'],\n",
    "                how='left')"
   ]
  },
  {
   "cell_type": "code",
   "execution_count": null,
   "metadata": {},
   "outputs": [],
   "source": [
    "data_merge['units per visit'] = data_merge['UNITS']/data_merge['VISITS']\n",
    "data_merge.head(3)"
   ]
  },
  {
   "cell_type": "code",
   "execution_count": null,
   "metadata": {},
   "outputs": [],
   "source": [
    "tmp = data_merge[data_merge['DESCRIPTION'] == 'ACT KIDS BBLGUM FLUOR RNS']\n",
    "tmp.head(5)"
   ]
  },
  {
   "cell_type": "code",
   "execution_count": null,
   "metadata": {},
   "outputs": [],
   "source": [
    "price_products = data_merge.groupby(['DESCRIPTION'])['UNITS'].sum()\n",
    "price_products"
   ]
  },
  {
   "cell_type": "code",
   "execution_count": null,
   "metadata": {},
   "outputs": [],
   "source": [
    "price_range_products = data_merge.groupby(['DESCRIPTION'])['PRICE'].aggregate(['min','max'])\n",
    "price_range_products"
   ]
  },
  {
   "cell_type": "code",
   "execution_count": null,
   "metadata": {},
   "outputs": [],
   "source": [
    "tmp = price_range_products.merge(price_products,how='left',on='DESCRIPTION')\n",
    "tmp"
   ]
  }
 ],
 "metadata": {
  "kernelspec": {
   "display_name": "venv",
   "language": "python",
   "name": "python3"
  },
  "language_info": {
   "codemirror_mode": {
    "name": "ipython",
    "version": 3
   },
   "file_extension": ".py",
   "mimetype": "text/x-python",
   "name": "python",
   "nbconvert_exporter": "python",
   "pygments_lexer": "ipython3",
   "version": "3.11.2"
  },
  "orig_nbformat": 4
 },
 "nbformat": 4,
 "nbformat_minor": 2
}
